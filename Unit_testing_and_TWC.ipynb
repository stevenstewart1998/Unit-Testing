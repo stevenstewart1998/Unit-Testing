{
 "cells": [
  {
   "cell_type": "code",
   "execution_count": null,
   "metadata": {},
   "outputs": [],
   "source": [
    "\n",
    "\n",
    "### TIPS\n",
    "\n",
    "\n",
    "### BRING FOLKS IN PLEASE; INCREASES ENGAGEMENT\n",
    "## SHOW OFF MY LIVE CODING SKILLS\n",
    "## IF THERE IS SPARE TIME MAYBE BUILD UP ON UNIT TESTS (CHANGE TRANSFORMATION OR RULE)\n",
    "## TRY TO TIMEBOX EACH SECTION\n",
    "\n",
    "# SECTION 1:\n",
    "# What is unit testing?\n",
    "# Why unit test/the benefits of unit testing\n",
    "# How should unit tests be written (test driven development)\n",
    "# What to test for\n",
    "    # When isnt it so helpfuL?\n",
    "    # Transformations, does logic, logic validation/checking\n",
    "    # Maybe bring up unit testing vs. integration testing (when should one vs the other used)\n",
    "    # different forms of software testing\n",
    "\n",
    "# Maybe make it more conversation\n",
    "    # As opposed to mking it completely a presentation, ask the audience their opinions\n",
    "    # Annoy Miriam\n",
    "# Emphasize high points (make it look cleaner)\n",
    "\n",
    "# SECTION 2:\n",
    "# TWC Overview\n",
    "    # Present on project\n",
    "    # What we wanted to unit test and why?\n",
    "    # Kendra the C.O.A.T. will also go over testing strategy\n",
    "\n",
    "# SECTION 3:\n",
    "# Examples of unit testing and how it was used for TWC\n",
    "    # Create dummy pipeline \n",
    "    # Show how certain libraries cannot be implemented via github actions\n",
    "    # Show wacky solution??? Maybee?\n",
    "        # THis brings up conversation around alternative solutions\n",
    "    # Implement github action pipeline (How to integrate unit testing (devops/cicd))\n",
    "# Talk about what Im unit testing and what IM not unit testing and why\n",
    "    # Only transformations and what is in memory\n",
    "    # THink of more examples \n",
    "    "
   ]
  },
  {
   "cell_type": "markdown",
   "metadata": {},
   "source": [
    "# Unit Testing and The Weather Channel\n",
    "### A Jupyter Notebook Presentation"
   ]
  },
  {
   "cell_type": "markdown",
   "metadata": {},
   "source": [
    "## What is Unit Testing?\n",
    "\n",
    "### Unit testing is a developer driven type of software testing where the goal is to test a \"code unit\", which is the smallest piece of code that be logically isolated in a system, and validate its accuracy.\n",
    "\n",
    "- A unit test is a block of code that verifies the accuracy of a code unit to confirm that when given certain types of inputs, the code unit will return the expected outputs\n",
    "    - A given code unit may have multiple unit tests, which are known as test cases\n",
    "- A given unit test should be able to be ran independently of the state or external outputs of a system and its configurations\n",
    "    - \"It is not a unit test If it talks to the database, it talks across the network, it touches the file system, it requires system configuration, or it can't be run at the same time as any other test.\"\n",
    "    - A common practice when writing unit tests for code units that require external data is to either mock a database connection or to mock test data to be used for testing\n",
    "- Unit tests are developer written and owned, as they allow developers to catch errors or handle certain scenarios around unintended or non-ideal inputs\n",
    "    - Unit tests are a form of software testing that happens early in the developement process as they are developed and validated as the developer is coding\n",
    "- In the data engineering world, a unit test would ideally be testing a code unit that takes in data, performs some kind of data transformation, and returns an output with the transformed input\n"
   ]
  },
  {
   "cell_type": "markdown",
   "metadata": {},
   "source": [
    "## Why Unit Test? \n",
    "### \"I trust my code, I know what it does!\" - A Misguided Developer\n",
    "- As a developer, we tend to test as we build, most often testing using what we expect to receive as an input (a single test case) and, as long as the output aligns with what we expect as an input, we take as good to go\n",
    "    - This can be potentially lead to some issues down the line\n",
    "        - We are testing using a limited suite of test cases (usually only the ideal, or \"happy\" case)\n",
    "        - We are creating knowledge silos as only the developers themselves would know what the expected input and output are for a given code unit \n",
    "        - If code changes happen down the line, we won't have a simple way to validate that they won't effect other code units\n",
    "        - We are not able to enforce code standards as there is not an active effort to write testable code, which could lead to large blocks of code that are difficult to validate or test\n",
    "- While unit testing can seem to be time consuming and does introduce some development and maintenance overhead, however it is invaluble to the development of a scalable and enduring system\n",
    "    - Unit testing provides insight into the functionality of a code unit and greater insight into the larger service or system that is being developed\n",
    "    - It allows developers to test early and quickly as they are developing, without having to depend on other parts of the project\n",
    "    - It increases code quality and enforces a degree coding standards as a given code unit has to written according to testing expectations\n",
    "    - It decreases the time needed for code changes, as if a given code unit is created or changed, the suite of test cases simply need to be ran to validate any errors or required test changes that need to be made\n",
    "    - It increases developer confidence in their code\n",
    "        - Nothing feels better than seen that green check mark saying all tests passed \n"
   ]
  },
  {
   "cell_type": "markdown",
   "metadata": {},
   "source": [
    "## How Should Unit Tests be Written?\n",
    "### What does it look like?\n",
    "- A well written unit test has the following traits:\n",
    "    - Uses a unit testing framework\n",
    "        - As opposed to creating a customized unit test methodolgy or framework for each block of code, developers should utilize automated testing frameworks that most programming languages provides\n",
    "            - Python, for example, has the pytest and unittest frameworks\n",
    "            - These frameworks not only provide a unified way to develop and run unit tests, they also provide tools that make developing and testing both easy and convenient\n",
    "                - VSCode even has an extension that allows you to configure and run your unit tests directly from the IDE\n",
    "            - Regardless of the testing framework used, teams should decide on which framework will be used across a given project for unit testing so that automation and future development is unified\n",
    "    - Can be automated\n",
    "        - While this applies more to the larger unit testing effort of a project then a single unit test, it is still paramount to note the importance of automated unit testing\n",
    "        - Automated testing frameworks like pytest and unittest have CLI commands that allow developers to run unit tests directly from the command line. \n",
    "            - This allows for the implementation of running unit tests as a part of a project's CI/CD process\n",
    "                - As code is merged into development or production branches, the CI/CD pipeline utilized by the project should include a step that calls the CLI command that runs a projects unit test\n",
    "    - Tests a single code unit and asserts once\n",
    "        - A given unit test should only have one assert statement and should only be testing a single code unit for an expected true or false outcome\n",
    "            - If you are testing for multiple scenarios for a given code unit, you can write these as separate tests \n",
    "            - Certain frameworks, such as pytest, also have the functionality to accept a list of parameters as arguments for a unit test and run the given unit test for each parameter, allowing a single unit test to test for mulitple scenarios\n",
    "    - Is deterministic \n",
    "        - A deterministic unit test is a unit test that, given a particular input, will always return the same output, regardless of the state of the system or machine that it is running on\n",
    "        - This principle goes hand-in-hand with deterministic programming, which ensures that each code unit only depends on the input to produce an output.\n",
    "        - If a given code unit depends on certain external factors, these factors should be set within the unit test as constants (or mocked using mocking frameworks and libraries) to ensure that the unit test will always return the same output given the same input\n"
   ]
  },
  {
   "cell_type": "markdown",
   "metadata": {},
   "source": [
    "## What to test for?\n",
    "### There shouldn't be any surpises \n",
    "- When writing a unit test, there are several scenarios that you're going to want to test for:\n",
    "    1. The \"happy path\"\n",
    "        - This is what many developers think is the only thing you need to test for\n",
    "            - Hint: It probably isn't.\n",
    "        - This is the test case in which for a given code unit, the input is the ideal scenario\n",
    "        - This should be the first test case that is tested for as it validates that the code unit returns the expected output when the system is running under the ideal conditions with the ideal inputs\n",
    "        - If this one fails, something is very fucked up\n",
    "        - This path only takes into account what users are supposed to do\n",
    "            - Hint: The moment a user touches an application, they find a way to not do what they're supposed to do\n",
    "    2. The \"unhappy path\"\n",
    "        - Test cases in which the given input is not what the system or code unit expects to see under normal circumstances\n",
    "        - The importance of testing for this path is ensuring that the code unit that is being tested handles errors or unintentional behaviors as required\n",
    "        - While we can think of any number of ways to break an application, it is important to only test for common unhappy path scenario \n",
    "        - Edge cases should also be included as test cases that fall within the unhappy path\n",
    "            - Edge cases are test cases in which the most unexpected inputs are given.\n",
    "                - i.e. A changed table schema, an empty input\n",
    "        "
   ]
  },
  {
   "cell_type": "markdown",
   "metadata": {},
   "source": [
    "# Sources\n",
    "- Kaggle Dataset: https://www.kaggle.com/datasets/sahirmaharajj/air-pollution-dataset\n",
    "- [Unit Testing – Software Testing](https://www.geeksforgeeks.org/unit-testing-software-testing/)\n",
    "- [Python Docs on unittest](https://docs.python.org/3/library/unittest.html)\n",
    "- [What Is Unit Testing? Types, Tools, and Best Practices](https://www.spiceworks.com/tech/devops/articles/what-is-unit-testing/)\n",
    "- [AWS: What is Unit Testing?](https://aws.amazon.com/what-is/unit-testing/#:~:text=A%20unit%20test%20is%20a,developer's%20theoretical%20logic%20behind%20it.)\n",
    "- [SmartBear: What Is Unit Testing?](https://smartbear.com/learn/automated-testing/what-is-unit-testing/)\n",
    "- [Happy & Unhappy Paths: Why You Need to Test Both](https://cucumber.io/blog/test-automation/happy-unhappy-paths-why-you-need-to-test-both/)\n"
   ]
  },
  {
   "cell_type": "markdown",
   "metadata": {},
   "source": []
  }
 ],
 "metadata": {
  "kernelspec": {
   "display_name": "cfa",
   "language": "python",
   "name": "python3"
  },
  "language_info": {
   "codemirror_mode": {
    "name": "ipython",
    "version": 3
   },
   "file_extension": ".py",
   "mimetype": "text/x-python",
   "name": "python",
   "nbconvert_exporter": "python",
   "pygments_lexer": "ipython3",
   "version": "3.10.0"
  }
 },
 "nbformat": 4,
 "nbformat_minor": 2
}
